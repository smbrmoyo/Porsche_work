{
  "nbformat": 4,
  "nbformat_minor": 0,
  "metadata": {
    "colab": {
      "name": "Porsche_Work.ipynb",
      "provenance": [],
      "mount_file_id": "199OiuBjFq4ojZtmRW7IDBHPA2gQkPJXk",
      "authorship_tag": "ABX9TyMUhC26nDxztNIO16HPXcCS",
      "include_colab_link": true
    },
    "kernelspec": {
      "name": "python3",
      "display_name": "Python 3"
    },
    "widgets": {
      "application/vnd.jupyter.widget-state+json": {
        "da8540d70dcf4ae48abfb7f7da616f89": {
          "model_module": "@jupyter-widgets/controls",
          "model_name": "IntTextModel",
          "state": {
            "_view_name": "IntTextView",
            "style": "IPY_MODEL_6536e523369d487cb1bf93c2c30fbc0f",
            "_dom_classes": [],
            "description": "Optionspreis:",
            "_model_name": "IntTextModel",
            "_view_module": "@jupyter-widgets/controls",
            "_model_module_version": "1.5.0",
            "value": 0,
            "_view_count": null,
            "disabled": false,
            "_view_module_version": "1.5.0",
            "continuous_update": true,
            "step": 1,
            "description_tooltip": null,
            "_model_module": "@jupyter-widgets/controls",
            "layout": "IPY_MODEL_9da49e4a460948fda60322f738453b69"
          }
        },
        "6536e523369d487cb1bf93c2c30fbc0f": {
          "model_module": "@jupyter-widgets/controls",
          "model_name": "DescriptionStyleModel",
          "state": {
            "_view_name": "StyleView",
            "_model_name": "DescriptionStyleModel",
            "description_width": "",
            "_view_module": "@jupyter-widgets/base",
            "_model_module_version": "1.5.0",
            "_view_count": null,
            "_view_module_version": "1.2.0",
            "_model_module": "@jupyter-widgets/controls"
          }
        },
        "9da49e4a460948fda60322f738453b69": {
          "model_module": "@jupyter-widgets/base",
          "model_name": "LayoutModel",
          "state": {
            "_view_name": "LayoutView",
            "grid_template_rows": null,
            "right": null,
            "justify_content": null,
            "_view_module": "@jupyter-widgets/base",
            "overflow": null,
            "_model_module_version": "1.2.0",
            "_view_count": null,
            "flex_flow": null,
            "width": null,
            "min_width": null,
            "border": null,
            "align_items": null,
            "bottom": null,
            "_model_module": "@jupyter-widgets/base",
            "top": null,
            "grid_column": null,
            "overflow_y": null,
            "overflow_x": null,
            "grid_auto_flow": null,
            "grid_area": null,
            "grid_template_columns": null,
            "flex": null,
            "_model_name": "LayoutModel",
            "justify_items": null,
            "grid_row": null,
            "max_height": null,
            "align_content": null,
            "visibility": null,
            "align_self": null,
            "height": null,
            "min_height": null,
            "padding": null,
            "grid_auto_rows": null,
            "grid_gap": null,
            "max_width": null,
            "order": null,
            "_view_module_version": "1.2.0",
            "grid_template_areas": null,
            "object_position": null,
            "object_fit": null,
            "grid_auto_columns": null,
            "margin": null,
            "display": null,
            "left": null
          }
        },
        "7b8743c3b8c741cca93c2ccb3af9484f": {
          "model_module": "@jupyter-widgets/controls",
          "model_name": "IntTextModel",
          "state": {
            "_view_name": "IntTextView",
            "style": "IPY_MODEL_40106c55908d450dbff972ee3952151f",
            "_dom_classes": [],
            "description": "Grundpreis Derivat",
            "_model_name": "IntTextModel",
            "_view_module": "@jupyter-widgets/controls",
            "_model_module_version": "1.5.0",
            "value": 0,
            "_view_count": null,
            "disabled": false,
            "_view_module_version": "1.5.0",
            "continuous_update": true,
            "step": 1,
            "description_tooltip": null,
            "_model_module": "@jupyter-widgets/controls",
            "layout": "IPY_MODEL_828d7e5fe5f64b89bcd056a08ee2dcd0"
          }
        },
        "40106c55908d450dbff972ee3952151f": {
          "model_module": "@jupyter-widgets/controls",
          "model_name": "DescriptionStyleModel",
          "state": {
            "_view_name": "StyleView",
            "_model_name": "DescriptionStyleModel",
            "description_width": "",
            "_view_module": "@jupyter-widgets/base",
            "_model_module_version": "1.5.0",
            "_view_count": null,
            "_view_module_version": "1.2.0",
            "_model_module": "@jupyter-widgets/controls"
          }
        },
        "828d7e5fe5f64b89bcd056a08ee2dcd0": {
          "model_module": "@jupyter-widgets/base",
          "model_name": "LayoutModel",
          "state": {
            "_view_name": "LayoutView",
            "grid_template_rows": null,
            "right": null,
            "justify_content": null,
            "_view_module": "@jupyter-widgets/base",
            "overflow": null,
            "_model_module_version": "1.2.0",
            "_view_count": null,
            "flex_flow": null,
            "width": null,
            "min_width": null,
            "border": null,
            "align_items": null,
            "bottom": null,
            "_model_module": "@jupyter-widgets/base",
            "top": null,
            "grid_column": null,
            "overflow_y": null,
            "overflow_x": null,
            "grid_auto_flow": null,
            "grid_area": null,
            "grid_template_columns": null,
            "flex": null,
            "_model_name": "LayoutModel",
            "justify_items": null,
            "grid_row": null,
            "max_height": null,
            "align_content": null,
            "visibility": null,
            "align_self": null,
            "height": null,
            "min_height": null,
            "padding": null,
            "grid_auto_rows": null,
            "grid_gap": null,
            "max_width": null,
            "order": null,
            "_view_module_version": "1.2.0",
            "grid_template_areas": null,
            "object_position": null,
            "object_fit": null,
            "grid_auto_columns": null,
            "margin": null,
            "display": null,
            "left": null
          }
        },
        "6171259cb60247408693bd835c3ef634": {
          "model_module": "@jupyter-widgets/controls",
          "model_name": "ButtonModel",
          "state": {
            "_view_name": "ButtonView",
            "style": "IPY_MODEL_425c57a69f17473c922d5279ccb8d6ce",
            "_dom_classes": [],
            "description": "Take Rate berechnen",
            "_model_name": "ButtonModel",
            "button_style": "",
            "_view_module": "@jupyter-widgets/controls",
            "_model_module_version": "1.5.0",
            "tooltip": "",
            "_view_count": null,
            "disabled": false,
            "_view_module_version": "1.5.0",
            "layout": "IPY_MODEL_d1877acacf3149f7918886e121183553",
            "_model_module": "@jupyter-widgets/controls",
            "icon": ""
          }
        },
        "425c57a69f17473c922d5279ccb8d6ce": {
          "model_module": "@jupyter-widgets/controls",
          "model_name": "ButtonStyleModel",
          "state": {
            "_view_name": "StyleView",
            "_model_name": "ButtonStyleModel",
            "_view_module": "@jupyter-widgets/base",
            "_model_module_version": "1.5.0",
            "_view_count": null,
            "button_color": null,
            "font_weight": "",
            "_view_module_version": "1.2.0",
            "_model_module": "@jupyter-widgets/controls"
          }
        },
        "d1877acacf3149f7918886e121183553": {
          "model_module": "@jupyter-widgets/base",
          "model_name": "LayoutModel",
          "state": {
            "_view_name": "LayoutView",
            "grid_template_rows": null,
            "right": null,
            "justify_content": null,
            "_view_module": "@jupyter-widgets/base",
            "overflow": null,
            "_model_module_version": "1.2.0",
            "_view_count": null,
            "flex_flow": null,
            "width": null,
            "min_width": null,
            "border": null,
            "align_items": null,
            "bottom": null,
            "_model_module": "@jupyter-widgets/base",
            "top": null,
            "grid_column": null,
            "overflow_y": null,
            "overflow_x": null,
            "grid_auto_flow": null,
            "grid_area": null,
            "grid_template_columns": null,
            "flex": null,
            "_model_name": "LayoutModel",
            "justify_items": null,
            "grid_row": null,
            "max_height": null,
            "align_content": null,
            "visibility": null,
            "align_self": null,
            "height": null,
            "min_height": null,
            "padding": null,
            "grid_auto_rows": null,
            "grid_gap": null,
            "max_width": null,
            "order": null,
            "_view_module_version": "1.2.0",
            "grid_template_areas": null,
            "object_position": null,
            "object_fit": null,
            "grid_auto_columns": null,
            "margin": null,
            "display": null,
            "left": null
          }
        },
        "860114b396eb4f5498d2d598ff4715e6": {
          "model_module": "@jupyter-widgets/output",
          "model_name": "OutputModel",
          "state": {
            "_view_name": "OutputView",
            "msg_id": "",
            "_dom_classes": [],
            "_model_name": "OutputModel",
            "outputs": [],
            "_view_module": "@jupyter-widgets/output",
            "_model_module_version": "1.0.0",
            "_view_count": null,
            "_view_module_version": "1.0.0",
            "layout": "IPY_MODEL_b98a6d2f47b044c2834d069a7ac4b99a",
            "_model_module": "@jupyter-widgets/output"
          }
        },
        "b98a6d2f47b044c2834d069a7ac4b99a": {
          "model_module": "@jupyter-widgets/base",
          "model_name": "LayoutModel",
          "state": {
            "_view_name": "LayoutView",
            "grid_template_rows": null,
            "right": null,
            "justify_content": null,
            "_view_module": "@jupyter-widgets/base",
            "overflow": null,
            "_model_module_version": "1.2.0",
            "_view_count": null,
            "flex_flow": null,
            "width": null,
            "min_width": null,
            "border": null,
            "align_items": null,
            "bottom": null,
            "_model_module": "@jupyter-widgets/base",
            "top": null,
            "grid_column": null,
            "overflow_y": null,
            "overflow_x": null,
            "grid_auto_flow": null,
            "grid_area": null,
            "grid_template_columns": null,
            "flex": null,
            "_model_name": "LayoutModel",
            "justify_items": null,
            "grid_row": null,
            "max_height": null,
            "align_content": null,
            "visibility": null,
            "align_self": null,
            "height": null,
            "min_height": null,
            "padding": null,
            "grid_auto_rows": null,
            "grid_gap": null,
            "max_width": null,
            "order": null,
            "_view_module_version": "1.2.0",
            "grid_template_areas": null,
            "object_position": null,
            "object_fit": null,
            "grid_auto_columns": null,
            "margin": null,
            "display": null,
            "left": null
          }
        }
      }
    }
  },
  "cells": [
    {
      "cell_type": "markdown",
      "metadata": {
        "id": "view-in-github",
        "colab_type": "text"
      },
      "source": [
        "<a href=\"https://colab.research.google.com/github/smbrmoyo/Porsche_work/blob/main/Porsche_Work.ipynb\" target=\"_parent\"><img src=\"https://colab.research.google.com/assets/colab-badge.svg\" alt=\"Open In Colab\"/></a>"
      ]
    },
    {
      "cell_type": "code",
      "metadata": {
        "colab": {
          "base_uri": "https://localhost:8080/"
        },
        "id": "-HE12KLQlpyt",
        "outputId": "a303fb54-5170-448e-f6a7-2c98f12ee46c"
      },
      "source": [
        "!pip install import_ipynb"
      ],
      "execution_count": null,
      "outputs": [
        {
          "output_type": "stream",
          "text": [
            "Collecting import_ipynb\n",
            "  Downloading https://files.pythonhosted.org/packages/63/35/495e0021bfdcc924c7cdec4e9fbb87c88dd03b9b9b22419444dc370c8a45/import-ipynb-0.1.3.tar.gz\n",
            "Building wheels for collected packages: import-ipynb\n",
            "  Building wheel for import-ipynb (setup.py) ... \u001b[?25l\u001b[?25hdone\n",
            "  Created wheel for import-ipynb: filename=import_ipynb-0.1.3-cp36-none-any.whl size=2976 sha256=e47095bf8a603592c58ed1e361fe7abcbc0f3a011400abfdaea9108c30df5925\n",
            "  Stored in directory: /root/.cache/pip/wheels/b4/7b/e9/a3a6e496115dffdb4e3085d0ae39ffe8a814eacc44bbf494b5\n",
            "Successfully built import-ipynb\n",
            "Installing collected packages: import-ipynb\n",
            "Successfully installed import-ipynb-0.1.3\n"
          ],
          "name": "stdout"
        }
      ]
    },
    {
      "cell_type": "code",
      "metadata": {
        "id": "BS-Ajw6zn1cw"
      },
      "source": [
        "import pandas as pd\n",
        "def preprocess_datacombined(orders_filtered, orders_options):\n",
        "    data_combined = pd.merge(orders_filtered, orders_options, left_on=\"externalvehiclenumber\", right_on=\"externalvehiclenumber\", how=\"left\")\n",
        "    data_combined[\"option_key\"] = data_combined.groupby(\"externalvehiclenumber\").transform(lambda x: \",\".join(x))[\"option_key\"]\n",
        "    data_combined = data_combined.drop_duplicates(subset=[\"externalvehiclenumber\"])\n",
        "    data_combined = data_combined.reset_index(drop=True)\n",
        "\n",
        "    return data_combined\n",
        "\n",
        "def filtering(dataframe, gg_id, btyp, mj_4):\n",
        "    dataframe = dataframe[(dataframe[\"gg_id\"]==gg_id) & (dataframe[\"btyp\"]==btyp) & (dataframe[\"mj_4\"]== mj_4)]\n",
        "    return dataframe\n",
        " "
      ],
      "execution_count": null,
      "outputs": []
    },
    {
      "cell_type": "code",
      "metadata": {
        "id": "RgY2i9mtn9pQ"
      },
      "source": [
        "from mlxtend.preprocessing import TransactionEncoder\n",
        "from mlxtend.frequent_patterns import apriori\n",
        "import pandas as pd\n",
        "\n",
        "def get_frequentitemsets(data):\n",
        "    \n",
        "    records = []\n",
        "\n",
        "    for i in range(0, len(data)):\n",
        "        list_temp = list(data[\"option_key\"][i].split(\",\"))\n",
        "        records.append(list_temp)\n",
        "        \n",
        "    te = TransactionEncoder()\n",
        "    te_ary = te.fit(records).transform(records)\n",
        "    df = pd.DataFrame(te_ary, columns=te.columns_)\n",
        "    frequent_itemsets = apriori(df, min_support=0.001, use_colnames=True, max_len=1)\n",
        "    frequent_itemsets['length'] = frequent_itemsets['itemsets'].apply(lambda x: len(x))\n",
        "    frequent_itemsets[\"itemsets\"]=frequent_itemsets[\"itemsets\"].apply(lambda x: list(x)[0])\n",
        "\n",
        "    return frequent_itemsets"
      ],
      "execution_count": null,
      "outputs": []
    },
    {
      "cell_type": "code",
      "metadata": {
        "id": "6orqsaYzn9mk"
      },
      "source": [
        "\n",
        "# Gradient Boosting Regression\n",
        "\n",
        "from sklearn.ensemble import GradientBoostingRegressor\n",
        "import numpy as np\n",
        "\n",
        "params = {'n_estimators': 500,\n",
        "          'max_depth': 3,\n",
        "          'min_samples_split': 5,\n",
        "          'learning_rate': 0.1,\n",
        "          'loss': 'ls'}\n",
        "\n",
        "def pred_gbr(train_x, train_y):\n",
        "    reg = GradientBoostingRegressor(**params)\n",
        "    reg.fit(train_x, train_y)\n",
        "    return reg"
      ],
      "execution_count": null,
      "outputs": []
    },
    {
      "cell_type": "code",
      "metadata": {
        "id": "scPYTlSWn9iJ"
      },
      "source": [
        "# Random Forest\n",
        "from sklearn.ensemble import RandomForestRegressor\n",
        "import numpy as np\n",
        "\n",
        "def pred_rf(train_x, train_y):\n",
        "    rf = RandomForestRegressor(n_estimators = 1000, random_state = 42)\n",
        "    rf.fit(train_x, train_y)\n",
        "\n",
        "    return rf"
      ],
      "execution_count": null,
      "outputs": []
    },
    {
      "cell_type": "code",
      "metadata": {
        "id": "cuYuV9kUn9gR"
      },
      "source": [
        "# Linear Regression\"\n",
        "\n",
        "from sklearn.linear_model import LinearRegression\n",
        "import numpy as np\n",
        "\n",
        "def pred_lr(train_x, train_y):\n",
        "    lm = LinearRegression()\n",
        "    lm.fit(train_x, train_y)\n",
        "\n",
        "    return lm"
      ],
      "execution_count": null,
      "outputs": []
    },
    {
      "cell_type": "code",
      "metadata": {
        "id": "yI4sI4I4UACF"
      },
      "source": [
        "import pandas as pd\n",
        "import numpy as np\n",
        "import matplotlib.pyplot as plt\n",
        "import import_ipynb\n",
        "from sklearn.metrics import precision_score\n",
        "from mlxtend.preprocessing import TransactionEncoder\n",
        "from mlxtend.frequent_patterns import apriori\n",
        "from sklearn.ensemble import RandomForestRegressor\n",
        "from sklearn.datasets import make_regression\n",
        "from sklearn.model_selection import train_test_split\n",
        "from sklearn.preprocessing import StandardScaler\n",
        "import statistics\n",
        "from sklearn.metrics import mean_squared_error \n",
        "\n",
        "#Widgets\\n\",\n",
        "import ipywidgets as widgets\n",
        "from IPython.display import display\n",
        "\n",
        "#Methoden\\n\",\n",
        "#import FrequentItemsets\n",
        "#import Recommender\n",
        "#import Preprocessin\n",
        "\n",
        "#Modelle\\n\",\n",
        "#import RandomForest\n",
        "#import GradientBoosting\n",
        "#import LinearRegression\n",
        "\n",
        "btyp = '9YAAA1'\n",
        "gg_id = 11\n",
        "mj_4 = 2020\n",
        "\n",
        "orders = pd.read_csv(\"drive/MyDrive/orders.csv\" , delimiter=\";\")\n",
        "orders_options = pd.read_csv(\"drive/MyDrive/orders_options.csv\" , delimiter=\";\")\n",
        "option_prices = pd.read_csv(\"drive/MyDrive/option_package_prices.csv\" , delimiter=\";\")\n",
        "btyp_prices = pd.read_csv(\"drive/MyDrive/model_base_price.csv\" , delimiter=\";\")\n",
        "model_abzug = pd.read_csv(\"drive/MyDrive/s_abzug_po.csv\" , delimiter=\";\")"
      ],
      "execution_count": null,
      "outputs": []
    },
    {
      "cell_type": "code",
      "metadata": {
        "colab": {
          "base_uri": "https://localhost:8080/"
        },
        "id": "RKOzM7K9uHw1",
        "outputId": "711d192f-8d14-443f-85cc-a9b3277c7476"
      },
      "source": [
        "len(model_abzug)"
      ],
      "execution_count": null,
      "outputs": [
        {
          "output_type": "execute_result",
          "data": {
            "text/plain": [
              "22501"
            ]
          },
          "metadata": {
            "tags": []
          },
          "execution_count": 10
        }
      ]
    },
    {
      "cell_type": "code",
      "metadata": {
        "colab": {
          "base_uri": "https://localhost:8080/"
        },
        "id": "f3f1nChiubhJ",
        "outputId": "6f52931d-2216-4dd1-da95-b0ef3890f050"
      },
      "source": [
        "model_abzug['m_familie'].value_counts()"
      ],
      "execution_count": null,
      "outputs": [
        {
          "output_type": "execute_result",
          "data": {
            "text/plain": [
              "RAD    780\n",
              "EIH    592\n",
              "REL    564\n",
              "LRA    500\n",
              "GKH    468\n",
              "      ... \n",
              "087      1\n",
              "FR       1\n",
              "21       1\n",
              "FBK      1\n",
              "TJ       1\n",
              "Name: m_familie, Length: 571, dtype: int64"
            ]
          },
          "metadata": {
            "tags": []
          },
          "execution_count": 11
        }
      ]
    },
    {
      "cell_type": "code",
      "metadata": {
        "colab": {
          "base_uri": "https://localhost:8080/"
        },
        "id": "F6Romu-zubb-",
        "outputId": "53e1a48a-9a0e-4aeb-c089-d3ed96f9d90c"
      },
      "source": [
        "model_abzug = model_abzug[ (model_abzug[\"btyp\"]==btyp)]\n",
        "len(model_abzug)"
      ],
      "execution_count": null,
      "outputs": [
        {
          "output_type": "execute_result",
          "data": {
            "text/plain": [
              "294"
            ]
          },
          "metadata": {
            "tags": []
          },
          "execution_count": 13
        }
      ]
    },
    {
      "cell_type": "code",
      "metadata": {
        "id": "e7OGL218ubZp"
      },
      "source": [
        ""
      ],
      "execution_count": null,
      "outputs": []
    },
    {
      "cell_type": "code",
      "metadata": {
        "id": "32VcOKTjrEWP"
      },
      "source": [
        "orders_filtered = filtering(orders, gg_id, btyp, mj_4)"
      ],
      "execution_count": null,
      "outputs": []
    },
    {
      "cell_type": "code",
      "metadata": {
        "id": "yoEKlhL2rETQ"
      },
      "source": [
        "data_combined = preprocess_datacombined(orders_filtered, orders_options)\n",
        "frequent_itemsets = get_frequentitemsets(data_combined)"
      ],
      "execution_count": null,
      "outputs": []
    },
    {
      "cell_type": "code",
      "metadata": {
        "id": "EIsFySk4rEQg"
      },
      "source": [
        "option_prices_filtered = filtering(option_prices, gg_id, btyp, mj_4)\n",
        "btyp_prices_filtered = filtering(btyp_prices, gg_id, btyp, mj_4)"
      ],
      "execution_count": null,
      "outputs": []
    },
    {
      "cell_type": "code",
      "metadata": {
        "id": "lkaNyhnwrEOR"
      },
      "source": [
        "support_option_price = pd.merge(option_prices_filtered, frequent_itemsets, left_on=\"option_key\", right_on=\"itemsets\")\n",
        "support_price = pd.merge(btyp_prices_filtered, support_option_price, on=\"btyp\")"
      ],
      "execution_count": null,
      "outputs": []
    },
    {
      "cell_type": "code",
      "metadata": {
        "id": "0hmB3BderEKy"
      },
      "source": [
        "labels = support_price['support'].values\n",
        "features = support_price[['preis','gr_prs']].values\n",
        "features"
      ],
      "execution_count": null,
      "outputs": []
    },
    {
      "cell_type": "code",
      "metadata": {
        "colab": {
          "base_uri": "https://localhost:8080/"
        },
        "id": "GVxI5FNcrEHS",
        "outputId": "71986950-cd60-493a-f7eb-54cf032d6f14"
      },
      "source": [
        "corr_matrix = support_price.corr()\n",
        "corr_matrix[\"support\"].sort_values(ascending=False)"
      ],
      "execution_count": null,
      "outputs": [
        {
          "output_type": "execute_result",
          "data": {
            "text/plain": [
              "support    1.000000\n",
              "preis     -0.117786\n",
              "gg_id_x         NaN\n",
              "mj_4_x          NaN\n",
              "gr_prs          NaN\n",
              "gg_id_y         NaN\n",
              "mj_4_y          NaN\n",
              "length          NaN\n",
              "Name: support, dtype: float64"
            ]
          },
          "metadata": {
            "tags": []
          },
          "execution_count": 16
        }
      ]
    },
    {
      "cell_type": "code",
      "metadata": {
        "colab": {
          "base_uri": "https://localhost:8080/",
          "height": 461
        },
        "id": "OPMwy0nl03HX",
        "outputId": "d4becb93-1729-4f55-e7b4-0e87265675a0"
      },
      "source": [
        "from sklearn.preprocessing import MinMaxScaler\n",
        "cols_to_scale = ['preis','gr_prs']\n",
        "scaler = MinMaxScaler()\n",
        "support_price[cols_to_scale] = scaler.fit_transform(support_price[cols_to_scale])\n",
        "support_price"
      ],
      "execution_count": null,
      "outputs": [
        {
          "output_type": "execute_result",
          "data": {
            "text/html": [
              "<div>\n",
              "<style scoped>\n",
              "    .dataframe tbody tr th:only-of-type {\n",
              "        vertical-align: middle;\n",
              "    }\n",
              "\n",
              "    .dataframe tbody tr th {\n",
              "        vertical-align: top;\n",
              "    }\n",
              "\n",
              "    .dataframe thead th {\n",
              "        text-align: right;\n",
              "    }\n",
              "</style>\n",
              "<table border=\"1\" class=\"dataframe\">\n",
              "  <thead>\n",
              "    <tr style=\"text-align: right;\">\n",
              "      <th></th>\n",
              "      <th>row ID_x</th>\n",
              "      <th>gg_id_x</th>\n",
              "      <th>c_nr_x</th>\n",
              "      <th>btyp</th>\n",
              "      <th>mj_4_x</th>\n",
              "      <th>mj_1_x</th>\n",
              "      <th>preis_typ_x</th>\n",
              "      <th>gr_prs</th>\n",
              "      <th>waehr_kz_x</th>\n",
              "      <th>gltg_ab_x</th>\n",
              "      <th>gltg_bis_x</th>\n",
              "      <th>l_aend_x</th>\n",
              "      <th>loaddate_x</th>\n",
              "      <th>row ID_y</th>\n",
              "      <th>gg_id_y</th>\n",
              "      <th>c_nr_y</th>\n",
              "      <th>mj_4_y</th>\n",
              "      <th>mj_1_y</th>\n",
              "      <th>option_key</th>\n",
              "      <th>ausstatt_kz</th>\n",
              "      <th>ausstatt_alt</th>\n",
              "      <th>v_option_key</th>\n",
              "      <th>v_ausstatt_kz</th>\n",
              "      <th>v_ausstatt_alt</th>\n",
              "      <th>preis_typ_y</th>\n",
              "      <th>preis</th>\n",
              "      <th>waehr_kz_y</th>\n",
              "      <th>gltg_ab_y</th>\n",
              "      <th>gltg_bis_y</th>\n",
              "      <th>l_aend_y</th>\n",
              "      <th>loaddate_y</th>\n",
              "      <th>support</th>\n",
              "      <th>itemsets</th>\n",
              "      <th>length</th>\n",
              "    </tr>\n",
              "  </thead>\n",
              "  <tbody>\n",
              "    <tr>\n",
              "      <th>0</th>\n",
              "      <td>Row195</td>\n",
              "      <td>11</td>\n",
              "      <td>C00</td>\n",
              "      <td>9YAAA1</td>\n",
              "      <td>2020</td>\n",
              "      <td>L</td>\n",
              "      <td>RETAIL</td>\n",
              "      <td>0.0</td>\n",
              "      <td>EUR</td>\n",
              "      <td>1970-01-01T00:00:00.0</td>\n",
              "      <td>2030-12-31T00:00:00.0</td>\n",
              "      <td>2020-06-19T16:05:00.0</td>\n",
              "      <td>2020-08-25T00:00:00.0</td>\n",
              "      <td>Row60404</td>\n",
              "      <td>11</td>\n",
              "      <td>C00</td>\n",
              "      <td>2020</td>\n",
              "      <td>L</td>\n",
              "      <td>C_C_YAV</td>\n",
              "      <td>C</td>\n",
              "      <td>YAV</td>\n",
              "      <td>C_C_YAV</td>\n",
              "      <td>C</td>\n",
              "      <td>YAV</td>\n",
              "      <td>RETAIL</td>\n",
              "      <td>0.033113</td>\n",
              "      <td>EUR</td>\n",
              "      <td>1970-01-01T00:00:00.0</td>\n",
              "      <td>2030-12-31T00:00:00.0</td>\n",
              "      <td>2020-08-25T14:00:12.133</td>\n",
              "      <td>2020-08-25T00:00:00.0</td>\n",
              "      <td>0.002395</td>\n",
              "      <td>C_C_YAV</td>\n",
              "      <td>1</td>\n",
              "    </tr>\n",
              "    <tr>\n",
              "      <th>1</th>\n",
              "      <td>Row195</td>\n",
              "      <td>11</td>\n",
              "      <td>C00</td>\n",
              "      <td>9YAAA1</td>\n",
              "      <td>2020</td>\n",
              "      <td>L</td>\n",
              "      <td>RETAIL</td>\n",
              "      <td>0.0</td>\n",
              "      <td>EUR</td>\n",
              "      <td>1970-01-01T00:00:00.0</td>\n",
              "      <td>2030-12-31T00:00:00.0</td>\n",
              "      <td>2020-06-19T16:05:00.0</td>\n",
              "      <td>2020-08-25T00:00:00.0</td>\n",
              "      <td>Row60405</td>\n",
              "      <td>11</td>\n",
              "      <td>C00</td>\n",
              "      <td>2020</td>\n",
              "      <td>L</td>\n",
              "      <td>C_C_YAW</td>\n",
              "      <td>C</td>\n",
              "      <td>YAW</td>\n",
              "      <td>C_C_YAW</td>\n",
              "      <td>C</td>\n",
              "      <td>YAW</td>\n",
              "      <td>RETAIL</td>\n",
              "      <td>0.064570</td>\n",
              "      <td>EUR</td>\n",
              "      <td>1970-01-01T00:00:00.0</td>\n",
              "      <td>2030-12-31T00:00:00.0</td>\n",
              "      <td>2020-08-25T14:00:12.133</td>\n",
              "      <td>2020-08-25T00:00:00.0</td>\n",
              "      <td>0.007186</td>\n",
              "      <td>C_C_YAW</td>\n",
              "      <td>1</td>\n",
              "    </tr>\n",
              "    <tr>\n",
              "      <th>2</th>\n",
              "      <td>Row195</td>\n",
              "      <td>11</td>\n",
              "      <td>C00</td>\n",
              "      <td>9YAAA1</td>\n",
              "      <td>2020</td>\n",
              "      <td>L</td>\n",
              "      <td>RETAIL</td>\n",
              "      <td>0.0</td>\n",
              "      <td>EUR</td>\n",
              "      <td>1970-01-01T00:00:00.0</td>\n",
              "      <td>2030-12-31T00:00:00.0</td>\n",
              "      <td>2020-06-19T16:05:00.0</td>\n",
              "      <td>2020-08-25T00:00:00.0</td>\n",
              "      <td>Row60407</td>\n",
              "      <td>11</td>\n",
              "      <td>C00</td>\n",
              "      <td>2020</td>\n",
              "      <td>L</td>\n",
              "      <td>C_C_YBZ</td>\n",
              "      <td>C</td>\n",
              "      <td>YBZ</td>\n",
              "      <td>C_C_YBZ</td>\n",
              "      <td>C</td>\n",
              "      <td>YBZ</td>\n",
              "      <td>RETAIL</td>\n",
              "      <td>0.028146</td>\n",
              "      <td>EUR</td>\n",
              "      <td>1970-01-01T00:00:00.0</td>\n",
              "      <td>2030-12-31T00:00:00.0</td>\n",
              "      <td>2020-08-25T14:00:12.133</td>\n",
              "      <td>2020-08-25T00:00:00.0</td>\n",
              "      <td>0.001198</td>\n",
              "      <td>C_C_YBZ</td>\n",
              "      <td>1</td>\n",
              "    </tr>\n",
              "    <tr>\n",
              "      <th>3</th>\n",
              "      <td>Row195</td>\n",
              "      <td>11</td>\n",
              "      <td>C00</td>\n",
              "      <td>9YAAA1</td>\n",
              "      <td>2020</td>\n",
              "      <td>L</td>\n",
              "      <td>RETAIL</td>\n",
              "      <td>0.0</td>\n",
              "      <td>EUR</td>\n",
              "      <td>1970-01-01T00:00:00.0</td>\n",
              "      <td>2030-12-31T00:00:00.0</td>\n",
              "      <td>2020-06-19T16:05:00.0</td>\n",
              "      <td>2020-08-25T00:00:00.0</td>\n",
              "      <td>Row60414</td>\n",
              "      <td>11</td>\n",
              "      <td>C00</td>\n",
              "      <td>2020</td>\n",
              "      <td>L</td>\n",
              "      <td>C_C_YFL</td>\n",
              "      <td>C</td>\n",
              "      <td>YFL</td>\n",
              "      <td>C_C_YFL</td>\n",
              "      <td>C</td>\n",
              "      <td>YFL</td>\n",
              "      <td>RETAIL</td>\n",
              "      <td>0.051325</td>\n",
              "      <td>EUR</td>\n",
              "      <td>1970-01-01T00:00:00.0</td>\n",
              "      <td>2030-12-31T00:00:00.0</td>\n",
              "      <td>2020-08-25T14:00:12.133</td>\n",
              "      <td>2020-08-25T00:00:00.0</td>\n",
              "      <td>0.010778</td>\n",
              "      <td>C_C_YFL</td>\n",
              "      <td>1</td>\n",
              "    </tr>\n",
              "    <tr>\n",
              "      <th>4</th>\n",
              "      <td>Row195</td>\n",
              "      <td>11</td>\n",
              "      <td>C00</td>\n",
              "      <td>9YAAA1</td>\n",
              "      <td>2020</td>\n",
              "      <td>L</td>\n",
              "      <td>RETAIL</td>\n",
              "      <td>0.0</td>\n",
              "      <td>EUR</td>\n",
              "      <td>1970-01-01T00:00:00.0</td>\n",
              "      <td>2030-12-31T00:00:00.0</td>\n",
              "      <td>2020-06-19T16:05:00.0</td>\n",
              "      <td>2020-08-25T00:00:00.0</td>\n",
              "      <td>Row60416</td>\n",
              "      <td>11</td>\n",
              "      <td>C00</td>\n",
              "      <td>2020</td>\n",
              "      <td>L</td>\n",
              "      <td>C_C_YFX</td>\n",
              "      <td>C</td>\n",
              "      <td>YFX</td>\n",
              "      <td>C_C_YFX</td>\n",
              "      <td>C</td>\n",
              "      <td>YFX</td>\n",
              "      <td>RETAIL</td>\n",
              "      <td>0.062086</td>\n",
              "      <td>EUR</td>\n",
              "      <td>1970-01-01T00:00:00.0</td>\n",
              "      <td>2030-12-31T00:00:00.0</td>\n",
              "      <td>2020-08-25T14:00:12.133</td>\n",
              "      <td>2020-08-25T00:00:00.0</td>\n",
              "      <td>0.003593</td>\n",
              "      <td>C_C_YFX</td>\n",
              "      <td>1</td>\n",
              "    </tr>\n",
              "    <tr>\n",
              "      <th>...</th>\n",
              "      <td>...</td>\n",
              "      <td>...</td>\n",
              "      <td>...</td>\n",
              "      <td>...</td>\n",
              "      <td>...</td>\n",
              "      <td>...</td>\n",
              "      <td>...</td>\n",
              "      <td>...</td>\n",
              "      <td>...</td>\n",
              "      <td>...</td>\n",
              "      <td>...</td>\n",
              "      <td>...</td>\n",
              "      <td>...</td>\n",
              "      <td>...</td>\n",
              "      <td>...</td>\n",
              "      <td>...</td>\n",
              "      <td>...</td>\n",
              "      <td>...</td>\n",
              "      <td>...</td>\n",
              "      <td>...</td>\n",
              "      <td>...</td>\n",
              "      <td>...</td>\n",
              "      <td>...</td>\n",
              "      <td>...</td>\n",
              "      <td>...</td>\n",
              "      <td>...</td>\n",
              "      <td>...</td>\n",
              "      <td>...</td>\n",
              "      <td>...</td>\n",
              "      <td>...</td>\n",
              "      <td>...</td>\n",
              "      <td>...</td>\n",
              "      <td>...</td>\n",
              "      <td>...</td>\n",
              "    </tr>\n",
              "    <tr>\n",
              "      <th>217</th>\n",
              "      <td>Row195</td>\n",
              "      <td>11</td>\n",
              "      <td>C00</td>\n",
              "      <td>9YAAA1</td>\n",
              "      <td>2020</td>\n",
              "      <td>L</td>\n",
              "      <td>RETAIL</td>\n",
              "      <td>0.0</td>\n",
              "      <td>EUR</td>\n",
              "      <td>1970-01-01T00:00:00.0</td>\n",
              "      <td>2030-12-31T00:00:00.0</td>\n",
              "      <td>2020-06-19T16:05:00.0</td>\n",
              "      <td>2020-08-25T00:00:00.0</td>\n",
              "      <td>Row60655</td>\n",
              "      <td>11</td>\n",
              "      <td>C00</td>\n",
              "      <td>2020</td>\n",
              "      <td>L</td>\n",
              "      <td>P_P_PO1</td>\n",
              "      <td>P</td>\n",
              "      <td>PO1</td>\n",
              "      <td>P_P_PO1</td>\n",
              "      <td>P</td>\n",
              "      <td>PO1</td>\n",
              "      <td>RETAIL</td>\n",
              "      <td>0.248344</td>\n",
              "      <td>EUR</td>\n",
              "      <td>1970-01-01T00:00:00.0</td>\n",
              "      <td>2030-12-31T00:00:00.0</td>\n",
              "      <td>2020-08-25T14:00:12.133</td>\n",
              "      <td>2020-08-25T00:00:00.0</td>\n",
              "      <td>0.010778</td>\n",
              "      <td>P_P_PO1</td>\n",
              "      <td>1</td>\n",
              "    </tr>\n",
              "    <tr>\n",
              "      <th>218</th>\n",
              "      <td>Row195</td>\n",
              "      <td>11</td>\n",
              "      <td>C00</td>\n",
              "      <td>9YAAA1</td>\n",
              "      <td>2020</td>\n",
              "      <td>L</td>\n",
              "      <td>RETAIL</td>\n",
              "      <td>0.0</td>\n",
              "      <td>EUR</td>\n",
              "      <td>1970-01-01T00:00:00.0</td>\n",
              "      <td>2030-12-31T00:00:00.0</td>\n",
              "      <td>2020-06-19T16:05:00.0</td>\n",
              "      <td>2020-08-25T00:00:00.0</td>\n",
              "      <td>Row60656</td>\n",
              "      <td>11</td>\n",
              "      <td>C00</td>\n",
              "      <td>2020</td>\n",
              "      <td>L</td>\n",
              "      <td>P_P_PW1</td>\n",
              "      <td>P</td>\n",
              "      <td>PW1</td>\n",
              "      <td>P_P_PW1</td>\n",
              "      <td>P</td>\n",
              "      <td>PW1</td>\n",
              "      <td>RETAIL</td>\n",
              "      <td>0.153974</td>\n",
              "      <td>EUR</td>\n",
              "      <td>1970-01-01T00:00:00.0</td>\n",
              "      <td>2030-12-31T00:00:00.0</td>\n",
              "      <td>2020-08-25T14:00:12.133</td>\n",
              "      <td>2020-08-25T00:00:00.0</td>\n",
              "      <td>0.245509</td>\n",
              "      <td>P_P_PW1</td>\n",
              "      <td>1</td>\n",
              "    </tr>\n",
              "    <tr>\n",
              "      <th>219</th>\n",
              "      <td>Row195</td>\n",
              "      <td>11</td>\n",
              "      <td>C00</td>\n",
              "      <td>9YAAA1</td>\n",
              "      <td>2020</td>\n",
              "      <td>L</td>\n",
              "      <td>RETAIL</td>\n",
              "      <td>0.0</td>\n",
              "      <td>EUR</td>\n",
              "      <td>1970-01-01T00:00:00.0</td>\n",
              "      <td>2030-12-31T00:00:00.0</td>\n",
              "      <td>2020-06-19T16:05:00.0</td>\n",
              "      <td>2020-08-25T00:00:00.0</td>\n",
              "      <td>Row60657</td>\n",
              "      <td>11</td>\n",
              "      <td>C00</td>\n",
              "      <td>2020</td>\n",
              "      <td>L</td>\n",
              "      <td>P_P_PW5</td>\n",
              "      <td>P</td>\n",
              "      <td>PW5</td>\n",
              "      <td>P_P_PW5</td>\n",
              "      <td>P</td>\n",
              "      <td>PW5</td>\n",
              "      <td>RETAIL</td>\n",
              "      <td>0.236755</td>\n",
              "      <td>EUR</td>\n",
              "      <td>1970-01-01T00:00:00.0</td>\n",
              "      <td>2030-12-31T00:00:00.0</td>\n",
              "      <td>2020-08-25T14:00:12.133</td>\n",
              "      <td>2020-08-25T00:00:00.0</td>\n",
              "      <td>0.051497</td>\n",
              "      <td>P_P_PW5</td>\n",
              "      <td>1</td>\n",
              "    </tr>\n",
              "    <tr>\n",
              "      <th>220</th>\n",
              "      <td>Row195</td>\n",
              "      <td>11</td>\n",
              "      <td>C00</td>\n",
              "      <td>9YAAA1</td>\n",
              "      <td>2020</td>\n",
              "      <td>L</td>\n",
              "      <td>RETAIL</td>\n",
              "      <td>0.0</td>\n",
              "      <td>EUR</td>\n",
              "      <td>1970-01-01T00:00:00.0</td>\n",
              "      <td>2030-12-31T00:00:00.0</td>\n",
              "      <td>2020-06-19T16:05:00.0</td>\n",
              "      <td>2020-08-25T00:00:00.0</td>\n",
              "      <td>Row60658</td>\n",
              "      <td>11</td>\n",
              "      <td>C00</td>\n",
              "      <td>2020</td>\n",
              "      <td>L</td>\n",
              "      <td>P_P_PW7</td>\n",
              "      <td>P</td>\n",
              "      <td>PW7</td>\n",
              "      <td>P_P_PW7</td>\n",
              "      <td>P</td>\n",
              "      <td>PW7</td>\n",
              "      <td>RETAIL</td>\n",
              "      <td>0.390728</td>\n",
              "      <td>EUR</td>\n",
              "      <td>1970-01-01T00:00:00.0</td>\n",
              "      <td>2030-12-31T00:00:00.0</td>\n",
              "      <td>2020-08-25T14:00:12.133</td>\n",
              "      <td>2020-08-25T00:00:00.0</td>\n",
              "      <td>0.220359</td>\n",
              "      <td>P_P_PW7</td>\n",
              "      <td>1</td>\n",
              "    </tr>\n",
              "    <tr>\n",
              "      <th>221</th>\n",
              "      <td>Row195</td>\n",
              "      <td>11</td>\n",
              "      <td>C00</td>\n",
              "      <td>9YAAA1</td>\n",
              "      <td>2020</td>\n",
              "      <td>L</td>\n",
              "      <td>RETAIL</td>\n",
              "      <td>0.0</td>\n",
              "      <td>EUR</td>\n",
              "      <td>1970-01-01T00:00:00.0</td>\n",
              "      <td>2030-12-31T00:00:00.0</td>\n",
              "      <td>2020-06-19T16:05:00.0</td>\n",
              "      <td>2020-08-25T00:00:00.0</td>\n",
              "      <td>Row60659</td>\n",
              "      <td>11</td>\n",
              "      <td>C00</td>\n",
              "      <td>2020</td>\n",
              "      <td>L</td>\n",
              "      <td>P_P_PY2</td>\n",
              "      <td>P</td>\n",
              "      <td>PY2</td>\n",
              "      <td>P_P_PY2</td>\n",
              "      <td>P</td>\n",
              "      <td>PY2</td>\n",
              "      <td>RETAIL</td>\n",
              "      <td>0.427152</td>\n",
              "      <td>EUR</td>\n",
              "      <td>1970-01-01T00:00:00.0</td>\n",
              "      <td>2030-12-31T00:00:00.0</td>\n",
              "      <td>2020-08-25T14:00:12.133</td>\n",
              "      <td>2020-08-25T00:00:00.0</td>\n",
              "      <td>0.200000</td>\n",
              "      <td>P_P_PY2</td>\n",
              "      <td>1</td>\n",
              "    </tr>\n",
              "  </tbody>\n",
              "</table>\n",
              "<p>222 rows × 34 columns</p>\n",
              "</div>"
            ],
            "text/plain": [
              "    row ID_x  gg_id_x c_nr_x  ...   support  itemsets length\n",
              "0     Row195       11    C00  ...  0.002395   C_C_YAV      1\n",
              "1     Row195       11    C00  ...  0.007186   C_C_YAW      1\n",
              "2     Row195       11    C00  ...  0.001198   C_C_YBZ      1\n",
              "3     Row195       11    C00  ...  0.010778   C_C_YFL      1\n",
              "4     Row195       11    C00  ...  0.003593   C_C_YFX      1\n",
              "..       ...      ...    ...  ...       ...       ...    ...\n",
              "217   Row195       11    C00  ...  0.010778   P_P_PO1      1\n",
              "218   Row195       11    C00  ...  0.245509   P_P_PW1      1\n",
              "219   Row195       11    C00  ...  0.051497   P_P_PW5      1\n",
              "220   Row195       11    C00  ...  0.220359   P_P_PW7      1\n",
              "221   Row195       11    C00  ...  0.200000   P_P_PY2      1\n",
              "\n",
              "[222 rows x 34 columns]"
            ]
          },
          "metadata": {
            "tags": []
          },
          "execution_count": 17
        }
      ]
    },
    {
      "cell_type": "code",
      "metadata": {
        "id": "stvuVL1ErEEm"
      },
      "source": [
        "train_x, test_x, train_y, test_y = train_test_split(features, labels, test_size = 0.25, random_state = 42)\n",
        "\n",
        "#dardScaler()\n",
        "#train_x = sc.fit_transform(train_x)\\n\",\n",
        "#test_x = sc.transform(test_x)\""
      ],
      "execution_count": null,
      "outputs": []
    },
    {
      "cell_type": "code",
      "metadata": {
        "colab": {
          "base_uri": "https://localhost:8080/"
        },
        "id": "RpUKgrqmyise",
        "outputId": "33929d23-1c75-4ead-99b6-bfadb1324919"
      },
      "source": [
        "train_x.shape"
      ],
      "execution_count": null,
      "outputs": [
        {
          "output_type": "execute_result",
          "data": {
            "text/plain": [
              "(166, 2)"
            ]
          },
          "metadata": {
            "tags": []
          },
          "execution_count": 19
        }
      ]
    },
    {
      "cell_type": "code",
      "metadata": {
        "colab": {
          "base_uri": "https://localhost:8080/"
        },
        "id": "JlP1SktYy_iZ",
        "outputId": "72135f9e-d1c7-4fba-81a5-730b0836167a"
      },
      "source": [
        "train_y.shape"
      ],
      "execution_count": null,
      "outputs": [
        {
          "output_type": "execute_result",
          "data": {
            "text/plain": [
              "(166,)"
            ]
          },
          "metadata": {
            "tags": []
          },
          "execution_count": 20
        }
      ]
    },
    {
      "cell_type": "code",
      "metadata": {
        "colab": {
          "base_uri": "https://localhost:8080/"
        },
        "id": "GzRo5W0lz0Aq",
        "outputId": "4e6397d7-e503-4dd4-acd0-940a5252efed"
      },
      "source": [
        "import tensorflow as tf\n",
        "from tensorflow import keras\n",
        "\n",
        "\n",
        "model = keras.Sequential([\n",
        "    keras.layers.Dense(166 , activation='relu'),\n",
        "    keras.layers.Dense(322 , activation='relu'),\n",
        "    keras.layers.Dense(166 , activation='relu'),\n",
        "    keras.layers.Dense(1, activation='sigmoid')\n",
        "])\n",
        "\n",
        "opt = tf.keras.optimizers.SGD(learning_rate=0.0001)\n",
        "cce = tf.keras.losses.CategoricalCrossentropy()\n",
        "\n",
        "model.compile(optimizer=opt,\n",
        "              loss='mse',\n",
        "              metrics=['accuracy'])\n",
        "\n",
        "model.fit(train_x, train_y,epochs=5)"
      ],
      "execution_count": null,
      "outputs": [
        {
          "output_type": "stream",
          "text": [
            "Epoch 1/5\n",
            "6/6 [==============================] - 0s 4ms/step - loss: 0.0502 - accuracy: 0.0000e+00\n",
            "Epoch 2/5\n",
            "6/6 [==============================] - 0s 3ms/step - loss: 0.0487 - accuracy: 0.0000e+00\n",
            "Epoch 3/5\n",
            "6/6 [==============================] - 0s 3ms/step - loss: 0.0581 - accuracy: 0.0000e+00\n",
            "Epoch 4/5\n",
            "6/6 [==============================] - 0s 3ms/step - loss: 0.0609 - accuracy: 0.0000e+00\n",
            "Epoch 5/5\n",
            "6/6 [==============================] - 0s 3ms/step - loss: 0.0495 - accuracy: 0.0000e+00\n"
          ],
          "name": "stdout"
        },
        {
          "output_type": "execute_result",
          "data": {
            "text/plain": [
              "<tensorflow.python.keras.callbacks.History at 0x7f5a6e6b2550>"
            ]
          },
          "metadata": {
            "tags": []
          },
          "execution_count": 21
        }
      ]
    },
    {
      "cell_type": "code",
      "metadata": {
        "id": "AEK8AGQczz-e"
      },
      "source": [
        ""
      ],
      "execution_count": null,
      "outputs": []
    },
    {
      "cell_type": "code",
      "metadata": {
        "colab": {
          "base_uri": "https://localhost:8080/"
        },
        "id": "V2aMTATarEBM",
        "outputId": "46b5c128-646f-4d47-d673-dcb4caa6acae"
      },
      "source": [
        "labels_list = list(labels)\n",
        "\n",
        "baseline_preds = statistics.mean(labels_list)\n",
        "   \n",
        "baseline_errors = abs(baseline_preds - test_y)\n",
        "print('Average baseline error: ', round(np.mean(baseline_errors), 3))\n",
        "\n",
        "predictor_rf = pred_rf(train_x, train_y)\n",
        "\n",
        "predictions_rf = predictor_rf.predict(test_x)\n",
        "\n",
        "mse = mean_squared_error(predictions_rf, test_y)\n",
        "\n",
        "print('MSE:', round(mse, 3))"
      ],
      "execution_count": null,
      "outputs": [
        {
          "output_type": "stream",
          "text": [
            "Average baseline error:  0.124\n",
            "MSE: 0.028\n"
          ],
          "name": "stdout"
        }
      ]
    },
    {
      "cell_type": "code",
      "metadata": {
        "colab": {
          "base_uri": "https://localhost:8080/"
        },
        "id": "90PRzS13rD-l",
        "outputId": "1c6c3974-0d41-4146-c3f5-c909afee74b1"
      },
      "source": [
        "predictor_gbr = pred_gbr(train_x, train_y)\n",
        "\n",
        "predictions_gbr = predictor_gbr.predict(test_x)\n",
        "\n",
        "mse = mean_squared_error(predictions_gbr, test_y)\n",
        "\n",
        "print('MSE:', round(mse, 3))"
      ],
      "execution_count": null,
      "outputs": [
        {
          "output_type": "stream",
          "text": [
            "MSE: 0.034\n"
          ],
          "name": "stdout"
        }
      ]
    },
    {
      "cell_type": "code",
      "metadata": {
        "colab": {
          "base_uri": "https://localhost:8080/"
        },
        "id": "fWhoskPqrD8L",
        "outputId": "c36aa281-f6b9-48ce-ff39-ab70cfb8def9"
      },
      "source": [
        "predictor_lr = pred_lr(train_x, train_y)\n",
        "\n",
        "predictions_lr = predictor_lr.predict(test_x)\n",
        "\n",
        "mse = mean_squared_error(predictions_lr, test_y)\n",
        "\n",
        "print('MSE:', round(mse, 3))"
      ],
      "execution_count": null,
      "outputs": [
        {
          "output_type": "stream",
          "text": [
            "MSE: 0.027\n"
          ],
          "name": "stdout"
        }
      ]
    },
    {
      "cell_type": "code",
      "metadata": {
        "colab": {
          "base_uri": "https://localhost:8080/",
          "height": 112,
          "referenced_widgets": [
            "da8540d70dcf4ae48abfb7f7da616f89",
            "6536e523369d487cb1bf93c2c30fbc0f",
            "9da49e4a460948fda60322f738453b69",
            "7b8743c3b8c741cca93c2ccb3af9484f",
            "40106c55908d450dbff972ee3952151f",
            "828d7e5fe5f64b89bcd056a08ee2dcd0",
            "6171259cb60247408693bd835c3ef634",
            "425c57a69f17473c922d5279ccb8d6ce",
            "d1877acacf3149f7918886e121183553",
            "860114b396eb4f5498d2d598ff4715e6",
            "b98a6d2f47b044c2834d069a7ac4b99a"
          ]
        },
        "id": "8Na26N7frD4k",
        "outputId": "f10869d8-90c5-4a0d-8c6f-4eef9eaee62d"
      },
      "source": [
        "preis_eingabe = widgets.IntText(description=\"Optionspreis:\", continuous_update=True); display(preis_eingabe)\n",
        "\n",
        "derivat_preis_eingabe = widgets.IntText(description=\"Grundpreis Derivat\", continuous_update=True); display(derivat_preis_eingabe)\n",
        "\n",
        "preis = int(preis_eingabe.value)\n",
        "derivat_preis = int(derivat_preis_eingabe.value)\n",
        "tr = predictor_lr.predict([[preis, derivat_preis]])\n",
        "button = widgets.Button(description = \"Take Rate berechnen\")\n",
        "output = widgets.Output()\n",
        "display(button,output)\\\n",
        "\n",
        "def recommender(__init__):\n",
        "    with output:\n",
        "        print(\"Die ermittlete Take Rate ist \" + str(tr))\n",
        "\n",
        "button.on_click(recommender)"
      ],
      "execution_count": null,
      "outputs": [
        {
          "output_type": "display_data",
          "data": {
            "application/vnd.jupyter.widget-view+json": {
              "model_id": "da8540d70dcf4ae48abfb7f7da616f89",
              "version_minor": 0,
              "version_major": 2
            },
            "text/plain": [
              "IntText(value=0, continuous_update=True, description='Optionspreis:')"
            ]
          },
          "metadata": {
            "tags": []
          }
        },
        {
          "output_type": "display_data",
          "data": {
            "application/vnd.jupyter.widget-view+json": {
              "model_id": "7b8743c3b8c741cca93c2ccb3af9484f",
              "version_minor": 0,
              "version_major": 2
            },
            "text/plain": [
              "IntText(value=0, continuous_update=True, description='Grundpreis Derivat')"
            ]
          },
          "metadata": {
            "tags": []
          }
        },
        {
          "output_type": "display_data",
          "data": {
            "application/vnd.jupyter.widget-view+json": {
              "model_id": "6171259cb60247408693bd835c3ef634",
              "version_minor": 0,
              "version_major": 2
            },
            "text/plain": [
              "Button(description='Take Rate berechnen', style=ButtonStyle())"
            ]
          },
          "metadata": {
            "tags": []
          }
        },
        {
          "output_type": "display_data",
          "data": {
            "application/vnd.jupyter.widget-view+json": {
              "model_id": "860114b396eb4f5498d2d598ff4715e6",
              "version_minor": 0,
              "version_major": 2
            },
            "text/plain": [
              "Output()"
            ]
          },
          "metadata": {
            "tags": []
          }
        }
      ]
    },
    {
      "cell_type": "code",
      "metadata": {
        "colab": {
          "base_uri": "https://localhost:8080/",
          "height": 461
        },
        "id": "bccZmf0SEF7R",
        "outputId": "33da8ae6-17f1-4526-a62c-45be51398c06"
      },
      "source": [
        "New_data = pd.read_csv(\"drive/MyDrive/New_dataset.csv\",delimiter=',')\n",
        "New_data"
      ],
      "execution_count": null,
      "outputs": [
        {
          "output_type": "execute_result",
          "data": {
            "text/html": [
              "<div>\n",
              "<style scoped>\n",
              "    .dataframe tbody tr th:only-of-type {\n",
              "        vertical-align: middle;\n",
              "    }\n",
              "\n",
              "    .dataframe tbody tr th {\n",
              "        vertical-align: top;\n",
              "    }\n",
              "\n",
              "    .dataframe thead th {\n",
              "        text-align: right;\n",
              "    }\n",
              "</style>\n",
              "<table border=\"1\" class=\"dataframe\">\n",
              "  <thead>\n",
              "    <tr style=\"text-align: right;\">\n",
              "      <th></th>\n",
              "      <th>Unnamed: 0</th>\n",
              "      <th>gg_id_x</th>\n",
              "      <th>btyp</th>\n",
              "      <th>mj_4_x</th>\n",
              "      <th>mj_1_x</th>\n",
              "      <th>gr_prs</th>\n",
              "      <th>waehr_kz_x</th>\n",
              "      <th>option_key</th>\n",
              "      <th>ausstatt_kz</th>\n",
              "      <th>ausstatt_alt</th>\n",
              "      <th>preis</th>\n",
              "      <th>support</th>\n",
              "      <th>pe</th>\n",
              "      <th>gueltig_bis</th>\n",
              "      <th>serienbeginn</th>\n",
              "      <th>m_familie</th>\n",
              "      <th>status_der_mnr</th>\n",
              "      <th>mnrk_1</th>\n",
              "    </tr>\n",
              "  </thead>\n",
              "  <tbody>\n",
              "    <tr>\n",
              "      <th>0</th>\n",
              "      <td>93</td>\n",
              "      <td>11</td>\n",
              "      <td>9YAAA1</td>\n",
              "      <td>2019</td>\n",
              "      <td>K</td>\n",
              "      <td>62881.0</td>\n",
              "      <td>EUR</td>\n",
              "      <td>M_M_0M5</td>\n",
              "      <td>M</td>\n",
              "      <td>0M5</td>\n",
              "      <td>100.0</td>\n",
              "      <td>0.943962</td>\n",
              "      <td>0150_L_FE3BA_9YAAA1_856675_F_FC00</td>\n",
              "      <td>2020-08-16</td>\n",
              "      <td>2019-07-08</td>\n",
              "      <td>KBV</td>\n",
              "      <td>F</td>\n",
              "      <td>NaN</td>\n",
              "    </tr>\n",
              "    <tr>\n",
              "      <th>1</th>\n",
              "      <td>167</td>\n",
              "      <td>11</td>\n",
              "      <td>9YAAA1</td>\n",
              "      <td>2019</td>\n",
              "      <td>K</td>\n",
              "      <td>62881.0</td>\n",
              "      <td>EUR</td>\n",
              "      <td>M_M_QZ7</td>\n",
              "      <td>M</td>\n",
              "      <td>QZ7</td>\n",
              "      <td>240.0</td>\n",
              "      <td>0.880104</td>\n",
              "      <td>0150_L_FE3BA_9YAAA1_857525_F_FC00</td>\n",
              "      <td>2020-08-16</td>\n",
              "      <td>2019-07-08</td>\n",
              "      <td>LEN</td>\n",
              "      <td>F</td>\n",
              "      <td>NaN</td>\n",
              "    </tr>\n",
              "    <tr>\n",
              "      <th>2</th>\n",
              "      <td>111</td>\n",
              "      <td>11</td>\n",
              "      <td>9YAAA1</td>\n",
              "      <td>2019</td>\n",
              "      <td>K</td>\n",
              "      <td>62881.0</td>\n",
              "      <td>EUR</td>\n",
              "      <td>M_M_3FU</td>\n",
              "      <td>M</td>\n",
              "      <td>3FU</td>\n",
              "      <td>1690.0</td>\n",
              "      <td>0.762815</td>\n",
              "      <td>0150_L_FE3BA_9YAAA1_856879_F_FC00</td>\n",
              "      <td>2020-08-16</td>\n",
              "      <td>2019-07-08</td>\n",
              "      <td>DEI</td>\n",
              "      <td>F</td>\n",
              "      <td>NaN</td>\n",
              "    </tr>\n",
              "    <tr>\n",
              "      <th>3</th>\n",
              "      <td>96</td>\n",
              "      <td>11</td>\n",
              "      <td>9YAAA1</td>\n",
              "      <td>2019</td>\n",
              "      <td>K</td>\n",
              "      <td>62881.0</td>\n",
              "      <td>EUR</td>\n",
              "      <td>M_M_0TD</td>\n",
              "      <td>M</td>\n",
              "      <td>0TD</td>\n",
              "      <td>150.0</td>\n",
              "      <td>0.753258</td>\n",
              "      <td>0150_L_FE3BA_9YAAA1_856701_F_FC00</td>\n",
              "      <td>2020-08-16</td>\n",
              "      <td>2019-07-08</td>\n",
              "      <td>ZFM</td>\n",
              "      <td>F</td>\n",
              "      <td>NaN</td>\n",
              "    </tr>\n",
              "    <tr>\n",
              "      <th>4</th>\n",
              "      <td>173</td>\n",
              "      <td>11</td>\n",
              "      <td>9YAAA1</td>\n",
              "      <td>2019</td>\n",
              "      <td>K</td>\n",
              "      <td>62881.0</td>\n",
              "      <td>EUR</td>\n",
              "      <td>M_M_VW1</td>\n",
              "      <td>M</td>\n",
              "      <td>VW1</td>\n",
              "      <td>420.0</td>\n",
              "      <td>0.729366</td>\n",
              "      <td>0150_L_FE3BA_9YAAA1_876685_F_FC00</td>\n",
              "      <td>2020-08-16</td>\n",
              "      <td>2019-07-08</td>\n",
              "      <td>SSH</td>\n",
              "      <td>F</td>\n",
              "      <td>NaN</td>\n",
              "    </tr>\n",
              "    <tr>\n",
              "      <th>...</th>\n",
              "      <td>...</td>\n",
              "      <td>...</td>\n",
              "      <td>...</td>\n",
              "      <td>...</td>\n",
              "      <td>...</td>\n",
              "      <td>...</td>\n",
              "      <td>...</td>\n",
              "      <td>...</td>\n",
              "      <td>...</td>\n",
              "      <td>...</td>\n",
              "      <td>...</td>\n",
              "      <td>...</td>\n",
              "      <td>...</td>\n",
              "      <td>...</td>\n",
              "      <td>...</td>\n",
              "      <td>...</td>\n",
              "      <td>...</td>\n",
              "      <td>...</td>\n",
              "    </tr>\n",
              "    <tr>\n",
              "      <th>368</th>\n",
              "      <td>190</td>\n",
              "      <td>11</td>\n",
              "      <td>9YAAA1</td>\n",
              "      <td>2020</td>\n",
              "      <td>L</td>\n",
              "      <td>64446.0</td>\n",
              "      <td>EUR</td>\n",
              "      <td>M_M_S6C</td>\n",
              "      <td>M</td>\n",
              "      <td>S6C</td>\n",
              "      <td>850.0</td>\n",
              "      <td>0.001198</td>\n",
              "      <td>0150_L_FE3BA_9YAAA1_890LH9_F_FC00</td>\n",
              "      <td>2020-08-16</td>\n",
              "      <td>2019-07-08</td>\n",
              "      <td>S6C</td>\n",
              "      <td>F</td>\n",
              "      <td>NaN</td>\n",
              "    </tr>\n",
              "    <tr>\n",
              "      <th>369</th>\n",
              "      <td>93</td>\n",
              "      <td>11</td>\n",
              "      <td>9YAAA1</td>\n",
              "      <td>2020</td>\n",
              "      <td>L</td>\n",
              "      <td>64446.0</td>\n",
              "      <td>EUR</td>\n",
              "      <td>M_E_7TL</td>\n",
              "      <td>M</td>\n",
              "      <td>7TL</td>\n",
              "      <td>1370.0</td>\n",
              "      <td>0.001198</td>\n",
              "      <td>0150_L_FE3BA_9YAAA1_891264_F_FC00</td>\n",
              "      <td>2020-08-16</td>\n",
              "      <td>2019-07-08</td>\n",
              "      <td>EIH</td>\n",
              "      <td>F</td>\n",
              "      <td>NaN</td>\n",
              "    </tr>\n",
              "    <tr>\n",
              "      <th>370</th>\n",
              "      <td>79</td>\n",
              "      <td>11</td>\n",
              "      <td>9YAAA1</td>\n",
              "      <td>2020</td>\n",
              "      <td>L</td>\n",
              "      <td>64446.0</td>\n",
              "      <td>EUR</td>\n",
              "      <td>M_E_48Z</td>\n",
              "      <td>M</td>\n",
              "      <td>48Z</td>\n",
              "      <td>5055.0</td>\n",
              "      <td>0.001198</td>\n",
              "      <td>0150_L_FE3BA_9YAAA1_89035J_F_FC00</td>\n",
              "      <td>2020-08-16</td>\n",
              "      <td>2019-07-08</td>\n",
              "      <td>RAD</td>\n",
              "      <td>F</td>\n",
              "      <td>NaN</td>\n",
              "    </tr>\n",
              "    <tr>\n",
              "      <th>371</th>\n",
              "      <td>95</td>\n",
              "      <td>11</td>\n",
              "      <td>9YAAA1</td>\n",
              "      <td>2020</td>\n",
              "      <td>L</td>\n",
              "      <td>64446.0</td>\n",
              "      <td>EUR</td>\n",
              "      <td>M_E_7V2</td>\n",
              "      <td>M</td>\n",
              "      <td>7V2</td>\n",
              "      <td>290.0</td>\n",
              "      <td>0.001198</td>\n",
              "      <td>0150_L_FE3BA_9YAAA1_8953XR_F_FC00</td>\n",
              "      <td>2020-08-16</td>\n",
              "      <td>2020-04-06</td>\n",
              "      <td>BEL</td>\n",
              "      <td>F</td>\n",
              "      <td>NaN</td>\n",
              "    </tr>\n",
              "    <tr>\n",
              "      <th>372</th>\n",
              "      <td>96</td>\n",
              "      <td>11</td>\n",
              "      <td>9YAAA1</td>\n",
              "      <td>2020</td>\n",
              "      <td>L</td>\n",
              "      <td>64446.0</td>\n",
              "      <td>EUR</td>\n",
              "      <td>M_E_7V3</td>\n",
              "      <td>M</td>\n",
              "      <td>7V3</td>\n",
              "      <td>290.0</td>\n",
              "      <td>0.001198</td>\n",
              "      <td>0150_L_FE3BA_9YAAA1_8953XT_F_FC00</td>\n",
              "      <td>2020-08-16</td>\n",
              "      <td>2020-04-06</td>\n",
              "      <td>BEL</td>\n",
              "      <td>F</td>\n",
              "      <td>NaN</td>\n",
              "    </tr>\n",
              "  </tbody>\n",
              "</table>\n",
              "<p>373 rows × 18 columns</p>\n",
              "</div>"
            ],
            "text/plain": [
              "     Unnamed: 0  gg_id_x    btyp  ...  m_familie status_der_mnr  mnrk_1\n",
              "0            93       11  9YAAA1  ...        KBV              F     NaN\n",
              "1           167       11  9YAAA1  ...        LEN              F     NaN\n",
              "2           111       11  9YAAA1  ...        DEI              F     NaN\n",
              "3            96       11  9YAAA1  ...        ZFM              F     NaN\n",
              "4           173       11  9YAAA1  ...        SSH              F     NaN\n",
              "..          ...      ...     ...  ...        ...            ...     ...\n",
              "368         190       11  9YAAA1  ...        S6C              F     NaN\n",
              "369          93       11  9YAAA1  ...        EIH              F     NaN\n",
              "370          79       11  9YAAA1  ...        RAD              F     NaN\n",
              "371          95       11  9YAAA1  ...        BEL              F     NaN\n",
              "372          96       11  9YAAA1  ...        BEL              F     NaN\n",
              "\n",
              "[373 rows x 18 columns]"
            ]
          },
          "metadata": {
            "tags": []
          },
          "execution_count": 26
        }
      ]
    },
    {
      "cell_type": "code",
      "metadata": {
        "colab": {
          "base_uri": "https://localhost:8080/"
        },
        "id": "FwweO3k7Fh9E",
        "outputId": "dc664dca-a01c-457a-ee2b-11c75fd6e3bf"
      },
      "source": [
        "New_data.dtypes"
      ],
      "execution_count": null,
      "outputs": [
        {
          "output_type": "execute_result",
          "data": {
            "text/plain": [
              "Unnamed: 0          int64\n",
              "gg_id_x             int64\n",
              "btyp               object\n",
              "mj_4_x              int64\n",
              "mj_1_x             object\n",
              "gr_prs            float64\n",
              "waehr_kz_x         object\n",
              "option_key         object\n",
              "ausstatt_kz        object\n",
              "ausstatt_alt       object\n",
              "preis             float64\n",
              "support           float64\n",
              "pe                 object\n",
              "gueltig_bis        object\n",
              "serienbeginn       object\n",
              "m_familie          object\n",
              "status_der_mnr     object\n",
              "mnrk_1            float64\n",
              "dtype: object"
            ]
          },
          "metadata": {
            "tags": []
          },
          "execution_count": 27
        }
      ]
    },
    {
      "cell_type": "code",
      "metadata": {
        "colab": {
          "base_uri": "https://localhost:8080/"
        },
        "id": "dYKKgrIfTUqO",
        "outputId": "0165935d-d456-4174-ce7a-39236c361960"
      },
      "source": [
        "New_data['m_familie'].value_counts()"
      ],
      "execution_count": null,
      "outputs": [
        {
          "output_type": "execute_result",
          "data": {
            "text/plain": [
              "RAD    32\n",
              "NNN    14\n",
              "EIH    14\n",
              "LRA     9\n",
              "SZU     9\n",
              "       ..\n",
              "HKA     1\n",
              "S6C     1\n",
              "GRA     1\n",
              "S2S     1\n",
              "ABA     1\n",
              "Name: m_familie, Length: 95, dtype: int64"
            ]
          },
          "metadata": {
            "tags": []
          },
          "execution_count": 28
        }
      ]
    },
    {
      "cell_type": "code",
      "metadata": {
        "colab": {
          "base_uri": "https://localhost:8080/",
          "height": 526
        },
        "id": "oBKydDLUUTY9",
        "outputId": "803208a1-2d71-416e-f762-3b2787b55c03"
      },
      "source": [
        "New_data[New_data['m_familie']=='EIH']"
      ],
      "execution_count": null,
      "outputs": [
        {
          "output_type": "execute_result",
          "data": {
            "text/html": [
              "<div>\n",
              "<style scoped>\n",
              "    .dataframe tbody tr th:only-of-type {\n",
              "        vertical-align: middle;\n",
              "    }\n",
              "\n",
              "    .dataframe tbody tr th {\n",
              "        vertical-align: top;\n",
              "    }\n",
              "\n",
              "    .dataframe thead th {\n",
              "        text-align: right;\n",
              "    }\n",
              "</style>\n",
              "<table border=\"1\" class=\"dataframe\">\n",
              "  <thead>\n",
              "    <tr style=\"text-align: right;\">\n",
              "      <th></th>\n",
              "      <th>Unnamed: 0</th>\n",
              "      <th>gg_id_x</th>\n",
              "      <th>btyp</th>\n",
              "      <th>mj_4_x</th>\n",
              "      <th>mj_1_x</th>\n",
              "      <th>gr_prs</th>\n",
              "      <th>waehr_kz_x</th>\n",
              "      <th>option_key</th>\n",
              "      <th>ausstatt_kz</th>\n",
              "      <th>ausstatt_alt</th>\n",
              "      <th>preis</th>\n",
              "      <th>support</th>\n",
              "      <th>pe</th>\n",
              "      <th>gueltig_bis</th>\n",
              "      <th>serienbeginn</th>\n",
              "      <th>m_familie</th>\n",
              "      <th>status_der_mnr</th>\n",
              "      <th>mnrk_1</th>\n",
              "    </tr>\n",
              "  </thead>\n",
              "  <tbody>\n",
              "    <tr>\n",
              "      <th>83</th>\n",
              "      <td>136</td>\n",
              "      <td>11</td>\n",
              "      <td>9YAAA1</td>\n",
              "      <td>2019</td>\n",
              "      <td>K</td>\n",
              "      <td>62881.0</td>\n",
              "      <td>EUR</td>\n",
              "      <td>M_M_5TE</td>\n",
              "      <td>M</td>\n",
              "      <td>5TE</td>\n",
              "      <td>650.0</td>\n",
              "      <td>0.061251</td>\n",
              "      <td>0150_L_FE3BA_9YAAA1_857043_F_FC00</td>\n",
              "      <td>2020-08-16</td>\n",
              "      <td>2019-07-08</td>\n",
              "      <td>EIH</td>\n",
              "      <td>F</td>\n",
              "      <td>NaN</td>\n",
              "    </tr>\n",
              "    <tr>\n",
              "      <th>105</th>\n",
              "      <td>135</td>\n",
              "      <td>11</td>\n",
              "      <td>9YAAA1</td>\n",
              "      <td>2019</td>\n",
              "      <td>K</td>\n",
              "      <td>62881.0</td>\n",
              "      <td>EUR</td>\n",
              "      <td>M_M_5MP</td>\n",
              "      <td>M</td>\n",
              "      <td>5MP</td>\n",
              "      <td>650.0</td>\n",
              "      <td>0.033015</td>\n",
              "      <td>0150_L_FE3BA_9YAAA1_857029_F_FC00</td>\n",
              "      <td>2020-08-16</td>\n",
              "      <td>2019-07-08</td>\n",
              "      <td>EIH</td>\n",
              "      <td>F</td>\n",
              "      <td>NaN</td>\n",
              "    </tr>\n",
              "    <tr>\n",
              "      <th>113</th>\n",
              "      <td>134</td>\n",
              "      <td>11</td>\n",
              "      <td>9YAAA1</td>\n",
              "      <td>2019</td>\n",
              "      <td>K</td>\n",
              "      <td>62881.0</td>\n",
              "      <td>EUR</td>\n",
              "      <td>M_M_5MH</td>\n",
              "      <td>M</td>\n",
              "      <td>5MH</td>\n",
              "      <td>1370.0</td>\n",
              "      <td>0.026933</td>\n",
              "      <td>0150_L_FE3BA_9YAAA1_857027_F_FC00</td>\n",
              "      <td>2020-08-16</td>\n",
              "      <td>2019-07-08</td>\n",
              "      <td>EIH</td>\n",
              "      <td>F</td>\n",
              "      <td>NaN</td>\n",
              "    </tr>\n",
              "    <tr>\n",
              "      <th>139</th>\n",
              "      <td>77</td>\n",
              "      <td>11</td>\n",
              "      <td>9YAAA1</td>\n",
              "      <td>2019</td>\n",
              "      <td>K</td>\n",
              "      <td>62881.0</td>\n",
              "      <td>EUR</td>\n",
              "      <td>M_E_7TM</td>\n",
              "      <td>M</td>\n",
              "      <td>7TM</td>\n",
              "      <td>1500.0</td>\n",
              "      <td>0.011729</td>\n",
              "      <td>0150_L_FE3BA_9YAAA1_891266_F_FC00</td>\n",
              "      <td>2020-08-16</td>\n",
              "      <td>2019-07-08</td>\n",
              "      <td>EIH</td>\n",
              "      <td>F</td>\n",
              "      <td>NaN</td>\n",
              "    </tr>\n",
              "    <tr>\n",
              "      <th>161</th>\n",
              "      <td>65</td>\n",
              "      <td>11</td>\n",
              "      <td>9YAAA1</td>\n",
              "      <td>2019</td>\n",
              "      <td>K</td>\n",
              "      <td>62881.0</td>\n",
              "      <td>EUR</td>\n",
              "      <td>M_E_5TT</td>\n",
              "      <td>M</td>\n",
              "      <td>5TT</td>\n",
              "      <td>1690.0</td>\n",
              "      <td>0.003041</td>\n",
              "      <td>0150_L_FE3BA_9YAAA1_891260_F_FC00</td>\n",
              "      <td>2020-08-16</td>\n",
              "      <td>2019-07-08</td>\n",
              "      <td>EIH</td>\n",
              "      <td>F</td>\n",
              "      <td>NaN</td>\n",
              "    </tr>\n",
              "    <tr>\n",
              "      <th>167</th>\n",
              "      <td>137</td>\n",
              "      <td>11</td>\n",
              "      <td>9YAAA1</td>\n",
              "      <td>2019</td>\n",
              "      <td>K</td>\n",
              "      <td>62881.0</td>\n",
              "      <td>EUR</td>\n",
              "      <td>M_M_5TK</td>\n",
              "      <td>M</td>\n",
              "      <td>5TK</td>\n",
              "      <td>650.0</td>\n",
              "      <td>0.002172</td>\n",
              "      <td>0150_L_FE3BA_9YAAA1_857045_F_FC00</td>\n",
              "      <td>2020-08-16</td>\n",
              "      <td>2019-07-08</td>\n",
              "      <td>EIH</td>\n",
              "      <td>F</td>\n",
              "      <td>NaN</td>\n",
              "    </tr>\n",
              "    <tr>\n",
              "      <th>170</th>\n",
              "      <td>76</td>\n",
              "      <td>11</td>\n",
              "      <td>9YAAA1</td>\n",
              "      <td>2019</td>\n",
              "      <td>K</td>\n",
              "      <td>62881.0</td>\n",
              "      <td>EUR</td>\n",
              "      <td>M_E_7TL</td>\n",
              "      <td>M</td>\n",
              "      <td>7TL</td>\n",
              "      <td>1370.0</td>\n",
              "      <td>0.001738</td>\n",
              "      <td>0150_L_FE3BA_9YAAA1_891264_F_FC00</td>\n",
              "      <td>2020-08-16</td>\n",
              "      <td>2019-07-08</td>\n",
              "      <td>EIH</td>\n",
              "      <td>F</td>\n",
              "      <td>NaN</td>\n",
              "    </tr>\n",
              "    <tr>\n",
              "      <th>267</th>\n",
              "      <td>157</td>\n",
              "      <td>11</td>\n",
              "      <td>9YAAA1</td>\n",
              "      <td>2020</td>\n",
              "      <td>L</td>\n",
              "      <td>64446.0</td>\n",
              "      <td>EUR</td>\n",
              "      <td>M_M_5TE</td>\n",
              "      <td>M</td>\n",
              "      <td>5TE</td>\n",
              "      <td>650.0</td>\n",
              "      <td>0.044311</td>\n",
              "      <td>0150_L_FE3BA_9YAAA1_857043_F_FC00</td>\n",
              "      <td>2020-08-16</td>\n",
              "      <td>2019-07-08</td>\n",
              "      <td>EIH</td>\n",
              "      <td>F</td>\n",
              "      <td>NaN</td>\n",
              "    </tr>\n",
              "    <tr>\n",
              "      <th>289</th>\n",
              "      <td>154</td>\n",
              "      <td>11</td>\n",
              "      <td>9YAAA1</td>\n",
              "      <td>2020</td>\n",
              "      <td>L</td>\n",
              "      <td>64446.0</td>\n",
              "      <td>EUR</td>\n",
              "      <td>M_M_5MH</td>\n",
              "      <td>M</td>\n",
              "      <td>5MH</td>\n",
              "      <td>1370.0</td>\n",
              "      <td>0.026347</td>\n",
              "      <td>0150_L_FE3BA_9YAAA1_857027_F_FC00</td>\n",
              "      <td>2020-08-16</td>\n",
              "      <td>2019-07-08</td>\n",
              "      <td>EIH</td>\n",
              "      <td>F</td>\n",
              "      <td>NaN</td>\n",
              "    </tr>\n",
              "    <tr>\n",
              "      <th>303</th>\n",
              "      <td>155</td>\n",
              "      <td>11</td>\n",
              "      <td>9YAAA1</td>\n",
              "      <td>2020</td>\n",
              "      <td>L</td>\n",
              "      <td>64446.0</td>\n",
              "      <td>EUR</td>\n",
              "      <td>M_M_5MP</td>\n",
              "      <td>M</td>\n",
              "      <td>5MP</td>\n",
              "      <td>650.0</td>\n",
              "      <td>0.020359</td>\n",
              "      <td>0150_L_FE3BA_9YAAA1_857029_F_FC00</td>\n",
              "      <td>2020-08-16</td>\n",
              "      <td>2019-07-08</td>\n",
              "      <td>EIH</td>\n",
              "      <td>F</td>\n",
              "      <td>NaN</td>\n",
              "    </tr>\n",
              "    <tr>\n",
              "      <th>323</th>\n",
              "      <td>94</td>\n",
              "      <td>11</td>\n",
              "      <td>9YAAA1</td>\n",
              "      <td>2020</td>\n",
              "      <td>L</td>\n",
              "      <td>64446.0</td>\n",
              "      <td>EUR</td>\n",
              "      <td>M_E_7TM</td>\n",
              "      <td>M</td>\n",
              "      <td>7TM</td>\n",
              "      <td>1500.0</td>\n",
              "      <td>0.009581</td>\n",
              "      <td>0150_L_FE3BA_9YAAA1_891266_F_FC00</td>\n",
              "      <td>2020-08-16</td>\n",
              "      <td>2019-07-08</td>\n",
              "      <td>EIH</td>\n",
              "      <td>F</td>\n",
              "      <td>NaN</td>\n",
              "    </tr>\n",
              "    <tr>\n",
              "      <th>351</th>\n",
              "      <td>156</td>\n",
              "      <td>11</td>\n",
              "      <td>9YAAA1</td>\n",
              "      <td>2020</td>\n",
              "      <td>L</td>\n",
              "      <td>64446.0</td>\n",
              "      <td>EUR</td>\n",
              "      <td>M_M_5TC</td>\n",
              "      <td>M</td>\n",
              "      <td>5TC</td>\n",
              "      <td>0.0</td>\n",
              "      <td>0.003593</td>\n",
              "      <td>0150_L_FE3BA_9YAAA1_895CQ0_F_FC00</td>\n",
              "      <td>2020-08-16</td>\n",
              "      <td>2019-07-08</td>\n",
              "      <td>EIH</td>\n",
              "      <td>F</td>\n",
              "      <td>NaN</td>\n",
              "    </tr>\n",
              "    <tr>\n",
              "      <th>363</th>\n",
              "      <td>158</td>\n",
              "      <td>11</td>\n",
              "      <td>9YAAA1</td>\n",
              "      <td>2020</td>\n",
              "      <td>L</td>\n",
              "      <td>64446.0</td>\n",
              "      <td>EUR</td>\n",
              "      <td>M_M_5TK</td>\n",
              "      <td>M</td>\n",
              "      <td>5TK</td>\n",
              "      <td>650.0</td>\n",
              "      <td>0.002395</td>\n",
              "      <td>0150_L_FE3BA_9YAAA1_857045_F_FC00</td>\n",
              "      <td>2020-08-16</td>\n",
              "      <td>2019-07-08</td>\n",
              "      <td>EIH</td>\n",
              "      <td>F</td>\n",
              "      <td>NaN</td>\n",
              "    </tr>\n",
              "    <tr>\n",
              "      <th>369</th>\n",
              "      <td>93</td>\n",
              "      <td>11</td>\n",
              "      <td>9YAAA1</td>\n",
              "      <td>2020</td>\n",
              "      <td>L</td>\n",
              "      <td>64446.0</td>\n",
              "      <td>EUR</td>\n",
              "      <td>M_E_7TL</td>\n",
              "      <td>M</td>\n",
              "      <td>7TL</td>\n",
              "      <td>1370.0</td>\n",
              "      <td>0.001198</td>\n",
              "      <td>0150_L_FE3BA_9YAAA1_891264_F_FC00</td>\n",
              "      <td>2020-08-16</td>\n",
              "      <td>2019-07-08</td>\n",
              "      <td>EIH</td>\n",
              "      <td>F</td>\n",
              "      <td>NaN</td>\n",
              "    </tr>\n",
              "  </tbody>\n",
              "</table>\n",
              "</div>"
            ],
            "text/plain": [
              "     Unnamed: 0  gg_id_x    btyp  ...  m_familie status_der_mnr  mnrk_1\n",
              "83          136       11  9YAAA1  ...        EIH              F     NaN\n",
              "105         135       11  9YAAA1  ...        EIH              F     NaN\n",
              "113         134       11  9YAAA1  ...        EIH              F     NaN\n",
              "139          77       11  9YAAA1  ...        EIH              F     NaN\n",
              "161          65       11  9YAAA1  ...        EIH              F     NaN\n",
              "167         137       11  9YAAA1  ...        EIH              F     NaN\n",
              "170          76       11  9YAAA1  ...        EIH              F     NaN\n",
              "267         157       11  9YAAA1  ...        EIH              F     NaN\n",
              "289         154       11  9YAAA1  ...        EIH              F     NaN\n",
              "303         155       11  9YAAA1  ...        EIH              F     NaN\n",
              "323          94       11  9YAAA1  ...        EIH              F     NaN\n",
              "351         156       11  9YAAA1  ...        EIH              F     NaN\n",
              "363         158       11  9YAAA1  ...        EIH              F     NaN\n",
              "369          93       11  9YAAA1  ...        EIH              F     NaN\n",
              "\n",
              "[14 rows x 18 columns]"
            ]
          },
          "metadata": {
            "tags": []
          },
          "execution_count": 29
        }
      ]
    },
    {
      "cell_type": "code",
      "metadata": {
        "colab": {
          "base_uri": "https://localhost:8080/"
        },
        "id": "Fkyk-qs5h4U7",
        "outputId": "6ee8a83a-3064-486d-bb05-becd35340eed"
      },
      "source": [
        "New_data[(New_data[\"m_familie\"]=='RAD')].iloc[1]"
      ],
      "execution_count": null,
      "outputs": [
        {
          "output_type": "execute_result",
          "data": {
            "text/plain": [
              "Unnamed: 0                                      117\n",
              "gg_id_x                                          11\n",
              "btyp                                         9YAAA1\n",
              "mj_4_x                                         2019\n",
              "mj_1_x                                            K\n",
              "gr_prs                                        62881\n",
              "waehr_kz_x                                      EUR\n",
              "option_key                                  M_M_42K\n",
              "ausstatt_kz                                       M\n",
              "ausstatt_alt                                    42K\n",
              "preis                                          3405\n",
              "support                                    0.107298\n",
              "pe                0150_L_FE3BA_9YAAA1_890C94_F_FC00\n",
              "gueltig_bis                              2020-08-16\n",
              "serienbeginn                             2019-07-08\n",
              "m_familie                                       RAD\n",
              "status_der_mnr                                    F\n",
              "mnrk_1                                          NaN\n",
              "Name: 57, dtype: object"
            ]
          },
          "metadata": {
            "tags": []
          },
          "execution_count": 30
        }
      ]
    },
    {
      "cell_type": "code",
      "metadata": {
        "colab": {
          "base_uri": "https://localhost:8080/"
        },
        "id": "_UAldWQroCXI",
        "outputId": "0c52fbb4-51fc-43f2-b9a2-d63573cb638d"
      },
      "source": [
        "New_data[\"m_familie\"].value_counts()"
      ],
      "execution_count": null,
      "outputs": [
        {
          "output_type": "execute_result",
          "data": {
            "text/plain": [
              "RAD    32\n",
              "NNN    14\n",
              "EIH    14\n",
              "LRA     9\n",
              "SZU     9\n",
              "       ..\n",
              "HKA     1\n",
              "S6C     1\n",
              "GRA     1\n",
              "S2S     1\n",
              "ABA     1\n",
              "Name: m_familie, Length: 95, dtype: int64"
            ]
          },
          "metadata": {
            "tags": []
          },
          "execution_count": 44
        }
      ]
    },
    {
      "cell_type": "code",
      "metadata": {
        "id": "O4YeEdAqEFx3"
      },
      "source": [
        "found = []\n",
        "def find_change_in_fam(df, col, value):\n",
        "\n",
        "  for i in range(len(df[(df[col]==value)])):\n",
        "    for j in range(len(df[(df[col]==value)])):\n",
        "      if df[(New_data[col]==value)].iloc[i]['ausstatt_alt']==df[(df[col]==value)].iloc[j]['ausstatt_alt'] and df[(df[col]==value)].iloc[i]['preis'] == df[(df[col]==value)].iloc[j]['preis'] and df[(df[col]==value)].iloc[i]['mj_4_x'] != df[(df[col]==value)].iloc[j]['mj_4_x'] and i!=j:\n",
        "      \n",
        "        if df[(df[col]==value)].iloc[i]['ausstatt_alt'] not in found:\n",
        "          found.extend([df[(df[col]==value)].iloc[i]['ausstatt_alt'], df[(df[col]==value)].iloc[i]['preis']])\n",
        "  return found"
      ],
      "execution_count": null,
      "outputs": []
    },
    {
      "cell_type": "code",
      "metadata": {
        "colab": {
          "base_uri": "https://localhost:8080/"
        },
        "id": "JPXPX4iXp-e-",
        "outputId": "084f0a5e-4c80-4660-d92b-e9a1f3d4aa69"
      },
      "source": [
        "print(find_change_in_fam(New_data,'m_familie','TVE'))"
      ],
      "execution_count": null,
      "outputs": [
        {
          "output_type": "stream",
          "text": [
            "['QV3', 400.0]\n"
          ],
          "name": "stdout"
        }
      ]
    },
    {
      "cell_type": "code",
      "metadata": {
        "colab": {
          "base_uri": "https://localhost:8080/"
        },
        "id": "fqfkxSTHsg5q",
        "outputId": "9f327145-edd0-4c17-ae76-665b71869b92"
      },
      "source": [
        "a = 0\n",
        "for ele in New_data[\"m_familie\"].unique().tolist():\n",
        "  print(ele)"
      ],
      "execution_count": null,
      "outputs": [
        {
          "output_type": "stream",
          "text": [
            "KBV\n",
            "LEN\n",
            "DEI\n",
            "ZFM\n",
            "SSH\n",
            "DAE\n",
            "IRS\n",
            "CHR\n",
            "SPU\n",
            "SIH\n",
            "LSE\n",
            "KSU\n",
            "TVE\n",
            "LCP\n",
            "VOS\n",
            "LRA\n",
            "2T\n",
            "SZU\n",
            "RAU\n",
            "AM\n",
            "RAD\n",
            "VTV\n",
            "HSW\n",
            "DAR\n",
            "SAB\n",
            "AL\n",
            "AHV\n",
            "GRT\n",
            "EST\n",
            "HUD\n",
            "TKV\n",
            "ZUH\n",
            "ZIN\n",
            "KMS\n",
            "3M\n",
            "HIA\n",
            "AER\n",
            "SBR\n",
            "SIE\n",
            "A1\n",
            "FRI\n",
            "WSS\n",
            "QM\n",
            "S9Y\n",
            "0Q\n",
            "KOV\n",
            "CM\n",
            "BBO\n",
            "SSR\n",
            "C7\n",
            "EIH\n",
            "LBH\n",
            "4A\n",
            "CDW\n",
            "GEF\n",
            "SZ8\n",
            "FEU\n",
            "STF\n",
            "RAA\n",
            "RM\n",
            "2Y\n",
            "RL\n",
            "HT\n",
            "CB\n",
            "CWV\n",
            "FFW\n",
            "FVS\n",
            "AUD\n",
            "TGE\n",
            "MAS\n",
            "HR\n",
            "BAV\n",
            "HIM\n",
            "RER\n",
            "NNN\n",
            "Y8\n",
            "S3S\n",
            "4T\n",
            "EIL\n",
            "CU\n",
            "CR\n",
            "TDA\n",
            "FIT\n",
            "ZUR\n",
            "GRA\n",
            "SAG\n",
            "S2S\n",
            "HKA\n",
            "ABA\n",
            "F0\n",
            "3H\n",
            "5Q\n",
            "H2\n",
            "S6C\n",
            "BEL\n"
          ],
          "name": "stdout"
        }
      ]
    },
    {
      "cell_type": "code",
      "metadata": {
        "colab": {
          "base_uri": "https://localhost:8080/"
        },
        "id": "Of59wE8MkZrO",
        "outputId": "1981dc5c-901b-4151-be7a-3ba37ff17eb8"
      },
      "source": [
        "for ele in New_data[\"m_familie\"].unique().tolist():\n",
        "  find_change_in_fam(New_data,'m_familie',ele)\n",
        "len(found)"
      ],
      "execution_count": null,
      "outputs": [
        {
          "output_type": "execute_result",
          "data": {
            "text/plain": [
              "268"
            ]
          },
          "metadata": {
            "tags": []
          },
          "execution_count": 41
        }
      ]
    },
    {
      "cell_type": "code",
      "metadata": {
        "id": "AXyRczuaEF0r"
      },
      "source": [
        "New_data.drop(['status_der_mnr','mnrk_1'], axis=columns, inplace=True)"
      ],
      "execution_count": null,
      "outputs": []
    },
    {
      "cell_type": "code",
      "metadata": {
        "id": "HOjsf6hzEFu8"
      },
      "source": [
        ""
      ],
      "execution_count": null,
      "outputs": []
    }
  ]
}